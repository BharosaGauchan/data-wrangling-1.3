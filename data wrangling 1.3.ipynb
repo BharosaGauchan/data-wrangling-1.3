{
 "cells": [
  {
   "cell_type": "markdown",
   "id": "564b0d93",
   "metadata": {},
   "source": [
    "# Hands-On Data Analysis with Pandas: Exercise pg. 49 1-8"
   ]
  },
  {
   "cell_type": "markdown",
   "id": "ad1ee5a6",
   "metadata": {},
   "source": [
    "### 1. Explore the JupyterLab interface and look at some of the shortcuts available. Don't worry about memorizing them now (eventually they will become second nature and save you a lot of time), just get comfortable using notebooks.\n",
    "\n",
    "\n",
    "\n",
    "### 2.Is all data normally distributed?\n",
    "No, most of the data in real life is not distributed normally. There are many outliers that will make the data distribution skewed right or left. \n",
    "\n",
    " ### 3. When would it make more sense to use the median instead of the mean for the measure of center?\n",
    "When the data has outliers, it would be ideal to use median instead of mean as a measure of center."
   ]
  },
  {
   "cell_type": "code",
   "execution_count": 126,
   "id": "abdaf0d9",
   "metadata": {},
   "outputs": [],
   "source": [
    "import random\n",
    "import numpy as np\n",
    "\n",
    "\n",
    "random.seed(0)\n",
    "salaries = [round(random.random()*1000000, -3) for _ in range(100)]\n"
   ]
  },
  {
   "cell_type": "code",
   "execution_count": 3,
   "id": "bd8f5ef7",
   "metadata": {},
   "outputs": [
    {
     "data": {
      "text/plain": [
       "True"
      ]
     },
     "execution_count": 3,
     "metadata": {},
     "output_type": "execute_result"
    }
   ],
   "source": [
    "# calculating mean and mathching with mean()from statistics library\n",
    "from statistics import mean\n",
    "total = 0\n",
    "\n",
    "for i in salaries:\n",
    "   total = total + i\n",
    "total / len(salaries) == mean(salaries)"
   ]
  },
  {
   "cell_type": "code",
   "execution_count": 4,
   "id": "16f2cf9f",
   "metadata": {},
   "outputs": [
    {
     "data": {
      "text/plain": [
       "True"
      ]
     },
     "execution_count": 4,
     "metadata": {},
     "output_type": "execute_result"
    }
   ],
   "source": [
    "# calculating mean and mathching with mean()from statistics library\n",
    "from statistics import mean\n",
    "total = 0\n",
    "\n",
    "for i in salaries:\n",
    "   total = total + i\n",
    "total / len(salaries) == mean(salaries)\n"
   ]
  },
  {
   "cell_type": "code",
   "execution_count": 5,
   "id": "a19b3c9a",
   "metadata": {},
   "outputs": [
    {
     "name": "stdout",
     "output_type": "stream",
     "text": [
      "589000.0\n"
     ]
    },
    {
     "data": {
      "text/plain": [
       "True"
      ]
     },
     "execution_count": 5,
     "metadata": {},
     "output_type": "execute_result"
    }
   ],
   "source": [
    "## mediam\n",
    "from statistics import median\n",
    "salaries.sort()\n",
    "length = len(salaries)\n",
    "middle =  length // 2\n",
    "if length % 2 == 0:\n",
    "    mid_value = (salaries[middle-1] + salaries[middle]) // 2\n",
    "else:\n",
    "   mid_value = salaries[middle]\n",
    "\n",
    "print (mid_value)\n",
    "\n",
    "mid_value == median(salaries)"
   ]
  },
  {
   "cell_type": "code",
   "execution_count": 39,
   "id": "567c6773",
   "metadata": {},
   "outputs": [
    {
     "data": {
      "text/plain": [
       "True"
      ]
     },
     "execution_count": 39,
     "metadata": {},
     "output_type": "execute_result"
    }
   ],
   "source": [
    "# sample variance\n",
    "from statistics import variance\n",
    "x = salaries\n",
    "l = len(salaries)\n",
    "sum([(x - sum(salaries) / l)**2 for x in salaries]) / (l - 1) == variance(salaries)"
   ]
  },
  {
   "cell_type": "code",
   "execution_count": 38,
   "id": "c559a513",
   "metadata": {},
   "outputs": [
    {
     "data": {
      "text/plain": [
       "True"
      ]
     },
     "execution_count": 38,
     "metadata": {},
     "output_type": "execute_result"
    }
   ],
   "source": [
    "# sample standard deviation\n",
    "from statistics import stdev\n",
    "import math\n",
    "math.sqrt(sum([(x - sum(salaries) / l)**2 for x in salaries]) / (l - 1)) == stdev(salaries)"
   ]
  },
  {
   "cell_type": "code",
   "execution_count": 42,
   "id": "ad3771c2",
   "metadata": {},
   "outputs": [
    {
     "data": {
      "text/plain": [
       "995000.0"
      ]
     },
     "execution_count": 42,
     "metadata": {},
     "output_type": "execute_result"
    }
   ],
   "source": [
    "# Range\n",
    "max(salaries) - min(salaries)"
   ]
  },
  {
   "cell_type": "code",
   "execution_count": 49,
   "id": "10eb1507",
   "metadata": {},
   "outputs": [
    {
     "data": {
      "text/plain": [
       "0.45386998894439035"
      ]
     },
     "execution_count": 49,
     "metadata": {},
     "output_type": "execute_result"
    }
   ],
   "source": [
    "# Coefficient of variation\n",
    "import statistics as st\n",
    "st.stdev(salaries) / mean(salaries) \n"
   ]
  },
  {
   "cell_type": "code",
   "execution_count": 67,
   "id": "8b816353",
   "metadata": {},
   "outputs": [
    {
     "name": "stdout",
     "output_type": "stream",
     "text": [
      "The Interquartile Range for the data is: 413250.0\n"
     ]
    },
    {
     "data": {
      "text/plain": [
       "413250.0"
      ]
     },
     "execution_count": 67,
     "metadata": {},
     "output_type": "execute_result"
    }
   ],
   "source": [
    "#Interquartile range\n",
    "import numpy as np\n",
    "df = np.array(salaries)\n",
    "df.sort()\n",
    "q3, q1 = np.percentile(df, [75 ,25])\n",
    "iqr = q3 - q1\n",
    "iqr\n"
   ]
  },
  {
   "cell_type": "code",
   "execution_count": 81,
   "id": "1e942526",
   "metadata": {},
   "outputs": [
    {
     "data": {
      "text/plain": [
       "[0.0,\n",
       " 0.01306532663316583,\n",
       " 0.07939698492462312,\n",
       " 0.0814070351758794,\n",
       " 0.08944723618090453,\n",
       " 0.10050251256281408,\n",
       " 0.10854271356783919,\n",
       " 0.18693467336683417,\n",
       " 0.18894472361809045,\n",
       " 0.19095477386934673]"
      ]
     },
     "execution_count": 81,
     "metadata": {},
     "output_type": "execute_result"
    }
   ],
   "source": [
    "# min-max scaling(normalizing)\n",
    "min_salary = min(salaries)\n",
    "max_salary = max(salaries)\n",
    "\n",
    "\n",
    "min_max_scaled = [(x - min_salary) /  (max_salary - min_salary)\n",
    " for x in salaries]\n",
    "min_max_scaled[:10]\n",
    "\n"
   ]
  },
  {
   "cell_type": "code",
   "execution_count": 87,
   "id": "fbc8d227",
   "metadata": {},
   "outputs": [
    {
     "data": {
      "text/plain": [
       "[-2.199512275430514,\n",
       " -2.150608309943509,\n",
       " -1.9023266390094862,\n",
       " -1.8948029520114855,\n",
       " -1.8647082040194827,\n",
       " -1.8233279255304788,\n",
       " -1.7932331775384762,\n",
       " -1.4998093846164489,\n",
       " -1.4922856976184482,\n",
       " -1.4847620106204475]"
      ]
     },
     "execution_count": 87,
     "metadata": {},
     "output_type": "execute_result"
    }
   ],
   "source": [
    "# standarization\n",
    "from statistics import mean, stdev\n",
    "\n",
    "m = mean(salaries)\n",
    "st = stdev(salaries)\n",
    "\n",
    "standard = [(x - m) / st for x in salaries]\n",
    "standard[:10]"
   ]
  },
  {
   "cell_type": "code",
   "execution_count": 120,
   "id": "13928ff4",
   "metadata": {},
   "outputs": [
    {
     "data": {
      "text/plain": [
       "0.26449129918250414"
      ]
     },
     "execution_count": 120,
     "metadata": {},
     "output_type": "execute_result"
    }
   ],
   "source": [
    "# covariance\n",
    "from statistics import mean\n",
    "\n",
    "x = [(x - mean(min_max_scaled)) for x in (min_max_scaled) ]\n",
    "y = [ (y - mean(standard))for y in (standard) ]\n",
    "t = [x * y for x,y in zip(min_max_scaled,standard)]\n",
    "t\n",
    "cov = mean(t)\n",
    "cov\n"
   ]
  },
  {
   "cell_type": "code",
   "execution_count": 125,
   "id": "65a63056",
   "metadata": {},
   "outputs": [
    {
     "data": {
      "text/plain": [
       "0.9900000000000001"
      ]
     },
     "execution_count": 125,
     "metadata": {},
     "output_type": "execute_result"
    }
   ],
   "source": [
    "#correlation coefficient\n",
    "from statistics import stdev\n",
    "cc = cov / (stdev(min_max_scaled) * stdev(standard))\n",
    "cc   "
   ]
  }
 ],
 "metadata": {
  "kernelspec": {
   "display_name": "Python 3 (ipykernel)",
   "language": "python",
   "name": "python3"
  },
  "language_info": {
   "codemirror_mode": {
    "name": "ipython",
    "version": 3
   },
   "file_extension": ".py",
   "mimetype": "text/x-python",
   "name": "python",
   "nbconvert_exporter": "python",
   "pygments_lexer": "ipython3",
   "version": "3.9.13"
  }
 },
 "nbformat": 4,
 "nbformat_minor": 5
}
